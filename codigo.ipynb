{
 "cells": [
  {
   "cell_type": "code",
   "execution_count": 1,
   "metadata": {},
   "outputs": [],
   "source": [
    "import random"
   ]
  },
  {
   "cell_type": "code",
   "execution_count": 3,
   "metadata": {},
   "outputs": [],
   "source": [
    "def generate_code(n):\n",
    "\tnums = list(range(10))\n",
    "\n",
    "\tcode = []\n",
    "\tfor i in range(n):\n",
    "\t\tx = random.randint(0,9-i)\n",
    "\t\tcode.append(nums.pop(x))\n",
    "\n",
    "\treturn code"
   ]
  },
  {
   "cell_type": "code",
   "execution_count": 4,
   "metadata": {},
   "outputs": [],
   "source": [
    "def read_guess(n):\n",
    "\n",
    "\tguess_num = []\n",
    "\twhile (len(guess_num) != n):\n",
    "\t\tguess_num = list(input(f\"Introduce guess ({n}-digit number): \"))\n",
    "\t\tguess_num = [int(x) for x in guess_num]\n",
    "\n",
    "\treturn guess_num"
   ]
  },
  {
   "cell_type": "code",
   "execution_count": 5,
   "metadata": {},
   "outputs": [],
   "source": [
    "def acierto(guess, code):\n",
    "\n",
    "\taciertos = 0\n",
    "\tfor i in range(len(code)):\n",
    "\t\tif code[i] == guess[i]:\n",
    "\t\t\taciertos += 1\n",
    "\n",
    "\treturn aciertos"
   ]
  },
  {
   "cell_type": "code",
   "execution_count": 6,
   "metadata": {},
   "outputs": [],
   "source": [
    "def traspuesto(guess, code):\n",
    "\ttras = 0\n",
    "\tfor i in range(len(code)):\n",
    "\t\tfor j in range(len(code)):\n",
    "\t\t\tif (code[i]==guess[j]) and i!=j:\n",
    "\t\t\t\ttras += 1\n",
    "\n",
    "\treturn tras"
   ]
  },
  {
   "cell_type": "code",
   "execution_count": 22,
   "metadata": {},
   "outputs": [],
   "source": [
    "def Mastermind():\n",
    "\tn = int(input(\"Welcome to Mastermind! Enter the difficulty (1-10)\"))\n",
    "\tcode = generate_code(n)\n",
    "\tintentos = 0\n",
    "\taciertos = 0\n",
    "\twhile aciertos != len(code):\n",
    "\t\tintentos += 1\n",
    "\t\tguess = read_guess(len(code))\n",
    "\t\taciertos = acierto(guess, code)\n",
    "\t\ttras = traspuesto(guess, code)\n",
    "\t\tprint(f\"Aciertos: {aciertos}, Traspuestos: {tras}\")\n",
    "\t\tif (aciertos == len(code)):\n",
    "\t\t\tprint(f\"You win! #{intentos} tries\")\n",
    "\t\t\tprint(f\"Code: {''.join(map(str, code))}\")"
   ]
  },
  {
   "cell_type": "code",
   "execution_count": 23,
   "metadata": {},
   "outputs": [
    {
     "name": "stdout",
     "output_type": "stream",
     "text": [
      "Aciertos: 1, Traspuestos: 0\n",
      "Aciertos: 0, Traspuestos: 1\n",
      "Aciertos: 0, Traspuestos: 0\n",
      "Aciertos: 0, Traspuestos: 0\n",
      "Aciertos: 0, Traspuestos: 0\n",
      "Aciertos: 0, Traspuestos: 0\n",
      "Aciertos: 0, Traspuestos: 0\n",
      "Aciertos: 1, Traspuestos: 0\n",
      "Aciertos: 0, Traspuestos: 1\n",
      "Aciertos: 2, Traspuestos: 0\n",
      "You win! #10 tries\n",
      "Code: 21\n"
     ]
    }
   ],
   "source": [
    "code = generate_code(2)\n",
    "Mastermind(code)"
   ]
  }
 ],
 "metadata": {
  "kernelspec": {
   "display_name": "Python 3",
   "language": "python",
   "name": "python3"
  },
  "language_info": {
   "codemirror_mode": {
    "name": "ipython",
    "version": 3
   },
   "file_extension": ".py",
   "mimetype": "text/x-python",
   "name": "python",
   "nbconvert_exporter": "python",
   "pygments_lexer": "ipython3",
   "version": "3.11.0"
  },
  "orig_nbformat": 4,
  "vscode": {
   "interpreter": {
    "hash": "8bb183d6f65149bde25a8207ad2fb4989b2757aac3d3ec63796cdeb74924c51a"
   }
  }
 },
 "nbformat": 4,
 "nbformat_minor": 2
}
