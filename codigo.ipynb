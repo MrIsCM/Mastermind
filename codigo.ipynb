{
 "cells": [
  {
   "cell_type": "code",
   "execution_count": 47,
   "metadata": {},
   "outputs": [],
   "source": [
    "import random"
   ]
  },
  {
   "cell_type": "code",
   "execution_count": 48,
   "metadata": {},
   "outputs": [],
   "source": [
    "def generate_code(n):\n",
    "\tnums = [0, 1, 2, 3, 4 ,5, 6, 7, 8, 9]\n",
    "\n",
    "\tcode = []\n",
    "\tfor i in range(n):\n",
    "\t\tx = random.randint(0,9-i)\n",
    "\t\tcode.append(nums.pop(x))\n",
    "\n",
    "\treturn code"
   ]
  },
  {
   "cell_type": "code",
   "execution_count": 49,
   "metadata": {},
   "outputs": [],
   "source": [
    "def read_guess(n):\n",
    "\n",
    "\tguess_num = []\n",
    "\twhile (len(guess_num) != n):\n",
    "\t\tguess_num = list(input(f\"Introduce guess ({n}-digit number): \"))\n",
    "\t\tguess_num = [int(x) for x in guess_num]\n",
    "\n",
    "\treturn guess_num"
   ]
  },
  {
   "cell_type": "code",
   "execution_count": 50,
   "metadata": {},
   "outputs": [],
   "source": [
    "def acierto(guess, code):\n",
    "\n",
    "\taciertos = 0\n",
    "\tfor i in range(len(code)):\n",
    "\t\tif code[i] == guess[i]:\n",
    "\t\t\taciertos += 1\n",
    "\n",
    "\treturn aciertos"
   ]
  },
  {
   "cell_type": "code",
   "execution_count": 51,
   "metadata": {},
   "outputs": [],
   "source": [
    "def traspuesto(guess, code):\n",
    "\ttras = 0\n",
    "\tfor i in range(len(code)):\n",
    "\t\tfor j in range(len(code)):\n",
    "\t\t\tif (code[i]==guess[j]) and i!=j:\n",
    "\t\t\t\ttras += 1\n",
    "\n",
    "\n",
    "\treturn tras"
   ]
  },
  {
   "cell_type": "code",
   "execution_count": 52,
   "metadata": {},
   "outputs": [],
   "source": [
    "def Mastermind(code):\n",
    "\tintentos = 0\n",
    "\tcontrol = True\n",
    "\twhile control:\n",
    "\t\tintentos += 1\n",
    "\t\tguess = read_guess(len(code))\n",
    "\t\taciertos = acierto(guess, code)\n",
    "\t\ttras = traspuesto(guess, code)\n",
    "\t\tprint(f\"Aciertos: {aciertos}, Traspuestos: {tras}\")\n",
    "\t\tif (aciertos == len(code)):\n",
    "\t\t\tprint(f\"You win! #{intentos}\")\n",
    "\t\t\tcontrol = False\n",
    "\t\t\n"
   ]
  },
  {
   "cell_type": "code",
   "execution_count": 53,
   "metadata": {},
   "outputs": [
    {
     "name": "stdout",
     "output_type": "stream",
     "text": [
      "Aciertos: 0, Traspuestos: 0\n",
      "Aciertos: 1, Traspuestos: 1\n",
      "Aciertos: 1, Traspuestos: 0\n",
      "Aciertos: 1, Traspuestos: 0\n",
      "Aciertos: 1, Traspuestos: 1\n",
      "Aciertos: 1, Traspuestos: 0\n",
      "Aciertos: 0, Traspuestos: 1\n",
      "Aciertos: 0, Traspuestos: 1\n",
      "Aciertos: 1, Traspuestos: 0\n",
      "Aciertos: 1, Traspuestos: 0\n",
      "Aciertos: 2, Traspuestos: 0\n",
      "Aciertos: 0, Traspuestos: 0\n",
      "Aciertos: 0, Traspuestos: 0\n",
      "Aciertos: 0, Traspuestos: 0\n",
      "Aciertos: 2, Traspuestos: 0\n",
      "Aciertos: 2, Traspuestos: 0\n",
      "Aciertos: 2, Traspuestos: 0\n",
      "Aciertos: 2, Traspuestos: 0\n",
      "Aciertos: 2, Traspuestos: 0\n",
      "Aciertos: 2, Traspuestos: 0\n",
      "Aciertos: 0, Traspuestos: 0\n",
      "Aciertos: 1, Traspuestos: 1\n",
      "Aciertos: 2, Traspuestos: 0\n",
      "Aciertos: 0, Traspuestos: 0\n",
      "Aciertos: 3, Traspuestos: 0\n",
      "¡Has ganado!\n"
     ]
    }
   ],
   "source": [
    "code = generate_code(3)\n",
    "Mastermind(code)"
   ]
  }
 ],
 "metadata": {
  "interpreter": {
   "hash": "251e81559002ddd7b2bf032dcaac0eab8c07dc3f187a921f1aa359dc2a69befe"
  },
  "kernelspec": {
   "display_name": "Python 3.9.10 64-bit",
   "language": "python",
   "name": "python3"
  },
  "language_info": {
   "codemirror_mode": {
    "name": "ipython",
    "version": 3
   },
   "file_extension": ".py",
   "mimetype": "text/x-python",
   "name": "python",
   "nbconvert_exporter": "python",
   "pygments_lexer": "ipython3",
   "version": "3.9.10"
  },
  "orig_nbformat": 4
 },
 "nbformat": 4,
 "nbformat_minor": 2
}
