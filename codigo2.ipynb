{
 "cells": [
  {
   "cell_type": "markdown",
   "metadata": {},
   "source": [
    "12 - Juego Mastermind.\n",
    "\n",
    "Vamos a programar el juego “Mastermind”, para ello el programa debe general aleatoriamente un número de n cifras (sin cifras repetidas), que será el código que el jugador debe adivinar en la menor cantidad de intentos posibles. Cada intento consiste en una propuesta de un código posible que escribe el jugador, y una respuesta del programa.\n",
    "\n",
    "Las respuestas le darán pistas al jugador para que pueda deducir el código.\n",
    "\n",
    "\t• Número de “ACIERTOS”: Es la cantidad de dígitos que están en el número secreto y en la misma posición,\n",
    "\t• Número de “TRASPUESTOS”: Es la cantidad de dígitos que están en el número secreto, pero no en la misma posición.\n",
    "\n",
    "\n",
    "Por ejemplo, si el código que eligió el programa es el 2607, y el jugador propone el 1406, el programa le debe responder un ACIERTO (el 0, que está en el código original en el mismo lugar, el tercero), y un TRASPUESTO (el 6, que también está en el código original, pero en la segunda posición, no en el cuarto como fue propuesto). ¡Ojo! No se indica la posición del ACIERTO o el TRASPUESTO.\n",
    "\n",
    "Cree funciones diferentes para al menos: generar el número secreto de n cifras sin repetir, pedir al usuario un número de n cifras, detectar los ACIERTOS, detectar los TRASPUESTOS, hacer el bucle principal del juego que devuelva el nº de intentos.\n",
    "\n",
    "SIN USAR VECTORES"
   ]
  },
  {
   "cell_type": "code",
   "execution_count": 82,
   "metadata": {},
   "outputs": [],
   "source": [
    "import numpy as np\n",
    "import random"
   ]
  },
  {
   "cell_type": "code",
   "execution_count": 83,
   "metadata": {},
   "outputs": [],
   "source": [
    "def repete(digit, code, n):\n",
    "\t# code = 1234\n",
    "\tfor _ in range(n):\n",
    "\t\tx = code%10\n",
    "\t\tif (digit == x):\n",
    "\t\t\treturn True\n",
    "\t\tcode = int((code-x)/10)\n",
    "\n",
    "\treturn False\t"
   ]
  },
  {
   "cell_type": "code",
   "execution_count": 84,
   "metadata": {},
   "outputs": [],
   "source": [
    "def generate_code(n):\n",
    "\tcontrol = True\n",
    "\tcode = random.randint(0,9)\n",
    "\ti=1\n",
    "\twhile i<n:\n",
    "\t\tcifra = random.randint(0,9)\n",
    "\t\tif (not repete(cifra,code,n)):\n",
    "\t\t\tcode = code*10 + cifra \n",
    "\t\t\ti+=1\n",
    "\t\t\t\n",
    "\treturn code"
   ]
  },
  {
   "cell_type": "code",
   "execution_count": 85,
   "metadata": {},
   "outputs": [],
   "source": [
    "def traspose(guess, code, n):\n",
    "\t# code = 123\n",
    "\t# guess = 432\n",
    "\ttras = 0\n",
    "\tfor i in range(n):\n",
    "\t\tcode_copy = code\n",
    "\t\tdig = guess%10\n",
    "\t\tfor j in range(n):\n",
    "\t\t\t#print(f\"Iter: {i}, {j}\")\n",
    "\t\t\tx = code_copy%10\n",
    "\t\t\t#print(f\"Cifra del intento: {dig}\")\n",
    "\t\t\t#print(f\"Cifra del code: {x}\")\n",
    "\t\t\tif (dig == x) and (i!=j):\n",
    "\t\t\t\ttras +=1\n",
    "\t\t\tcode_copy = code_copy//10\n",
    "\t\t\t#print(f\"Trasp: {tras}\")\n",
    "\t\tguess = guess//10\n",
    "\t\n",
    "\treturn tras"
   ]
  },
  {
   "cell_type": "code",
   "execution_count": 4,
   "metadata": {},
   "outputs": [
    {
     "data": {
      "text/plain": [
       "1"
      ]
     },
     "execution_count": 4,
     "metadata": {},
     "output_type": "execute_result"
    }
   ],
   "source": [
    "def acierto(guess, code, n):\n",
    "\t# code = 1234\n",
    "\tacierto = 0\n",
    "\tfor i in range(n):\n",
    "\t\tcode_copy = code\n",
    "\t\tdig = guess%10\n",
    "\t\tfor j in range(n):\n",
    "\t\t\t#print(f\"Iter: {i}, {j}\")\n",
    "\t\t\tx = code_copy%10\n",
    "\t\t\t#print(f\"Cifra del intento: {dig}\")\n",
    "\t\t\t#print(f\"Cifra del code: {x}\")\n",
    "\t\t\tcode_copy = int((code_copy-x)/10)\n",
    "\t\t\tif (dig == x) and (i==j):\n",
    "\t\t\t\tacierto +=1\n",
    "\t\t\t#print(f\"Acierto: {acierto}\")\n",
    "\t\tguess = int((guess-dig)/10)\n",
    "\t\n",
    "\treturn acierto\n",
    "\n",
    "acierto(123, 321, 3)"
   ]
  },
  {
   "cell_type": "code",
   "execution_count": 87,
   "metadata": {},
   "outputs": [],
   "source": [
    "# ==================================\n",
    "# \tFuncion acierto alternativa\n",
    "#\tVersion Alfredo.\n",
    "# ==================================\n",
    "def acierto_alfr(guess, code, n):\n",
    "\ta = 0\n",
    "\tfor i in range(n):\n",
    "\t\tif (guess%10 == code%10):\n",
    "\t\t\ta+=1\n",
    "\t\tguess = int(guess/10)\n",
    "\t\tcode = int(code/10)\n",
    "\n",
    "\treturn a\n"
   ]
  },
  {
   "cell_type": "code",
   "execution_count": 88,
   "metadata": {},
   "outputs": [],
   "source": [
    "def read_guess(n):\n",
    "\tguess = ''\n",
    "\twhile (len(guess) != n):\n",
    "\t\tguess = input(f\"Introduce un numero de {n} cifras: \")\n",
    "\t\n",
    "\treturn int(guess)"
   ]
  },
  {
   "cell_type": "code",
   "execution_count": 89,
   "metadata": {},
   "outputs": [],
   "source": [
    "def Mastermind(n):\n",
    "\tintentos = 0\n",
    "\tcontrol = True\n",
    "\tcode = generate_code(n)\n",
    "\twhile control:\n",
    "\t\tintentos += 1\n",
    "\t\tguess = read_guess(n)\n",
    "\t\taciertos = acierto(guess, code, n)\n",
    "\t\ttras = traspose(guess, code, n)\n",
    "\t\tprint(f\"Aciertos: {aciertos}, Traspuestos: {tras}\")\n",
    "\t\tif (aciertos == n):\n",
    "\t\t\tprint(f\"You win! #{intentos}\")\n",
    "\t\t\tcontrol = False"
   ]
  },
  {
   "cell_type": "code",
   "execution_count": 90,
   "metadata": {},
   "outputs": [
    {
     "name": "stdout",
     "output_type": "stream",
     "text": [
      "Aciertos: 0, Traspuestos: 0\n",
      "Aciertos: 0, Traspuestos: 0\n",
      "Aciertos: 0, Traspuestos: 0\n",
      "Aciertos: 1, Traspuestos: 0\n",
      "Aciertos: 1, Traspuestos: 0\n",
      "Aciertos: 2, Traspuestos: 0\n",
      "You win! #6\n"
     ]
    }
   ],
   "source": [
    "Mastermind(2)"
   ]
  }
 ],
 "metadata": {
  "interpreter": {
   "hash": "251e81559002ddd7b2bf032dcaac0eab8c07dc3f187a921f1aa359dc2a69befe"
  },
  "kernelspec": {
   "display_name": "Python 3.9.10 64-bit",
   "language": "python",
   "name": "python3"
  },
  "language_info": {
   "codemirror_mode": {
    "name": "ipython",
    "version": 3
   },
   "file_extension": ".py",
   "mimetype": "text/x-python",
   "name": "python",
   "nbconvert_exporter": "python",
   "pygments_lexer": "ipython3",
   "version": "3.9.10"
  },
  "orig_nbformat": 4
 },
 "nbformat": 4,
 "nbformat_minor": 2
}
